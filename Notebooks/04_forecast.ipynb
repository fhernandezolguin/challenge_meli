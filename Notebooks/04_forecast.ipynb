{
 "cells": [
  {
   "attachments": {},
   "cell_type": "markdown",
   "metadata": {},
   "source": [
    "### Series de tiempo"
   ]
  },
  {
   "attachments": {},
   "cell_type": "markdown",
   "metadata": {},
   "source": [
    "El objetivo de este desafío es construir un modelo de forecast que permita estimar las ventas de 3 semanas a nivel diario utilizando la historia de ventas de la categoría. Es decir, predecir las ventas de los siguientes 21 días. Las métricas y la medición de la performance del forecast son un punto clave de este desafío."
   ]
  },
  {
   "cell_type": "code",
   "execution_count": 51,
   "metadata": {},
   "outputs": [],
   "source": [
    "# Libraries\n",
    "import math\n",
    "import numpy as np \n",
    "import pandas as pd\n",
    "import seaborn as sns\n",
    "from tqdm import tqdm\n",
    "import missingno as msno\n",
    "import scipy.stats as stats\n",
    "from matplotlib import pyplot as plt \n",
    "from sklearn.preprocessing import StandardScaler\n",
    "from statsmodels.graphics.tsaplots import plot_acf\n",
    "from skforecast.ForecasterAutoreg import ForecasterAutoreg\n",
    "from sklearn.ensemble import  HistGradientBoostingRegressor\n",
    "from skforecast.model_selection import backtesting_forecaster\n",
    "from skforecast.model_selection import grid_search_forecaster\n",
    "from skforecast.ForecasterAutoregMultiSeries import ForecasterAutoregMultiSeries\n",
    "from skforecast.model_selection_multiseries import backtesting_forecaster_multiseries\n",
    "from skforecast.model_selection_multiseries import grid_search_forecaster_multiseries\n",
    "# Config pandas\n",
    "pd.set_option('display.max_rows', None)"
   ]
  },
  {
   "cell_type": "code",
   "execution_count": 52,
   "metadata": {},
   "outputs": [],
   "source": [
    "# Parameters\n",
    "NAME_FILE = \"series.csv\"\n",
    "FILES_PATH = 'Files/'"
   ]
  },
  {
   "cell_type": "code",
   "execution_count": 53,
   "metadata": {},
   "outputs": [
    {
     "name": "stdout",
     "output_type": "stream",
     "text": [
      "Number of rows: 2686\n"
     ]
    },
    {
     "data": {
      "text/html": [
       "<div>\n",
       "<style scoped>\n",
       "    .dataframe tbody tr th:only-of-type {\n",
       "        vertical-align: middle;\n",
       "    }\n",
       "\n",
       "    .dataframe tbody tr th {\n",
       "        vertical-align: top;\n",
       "    }\n",
       "\n",
       "    .dataframe thead th {\n",
       "        text-align: right;\n",
       "    }\n",
       "</style>\n",
       "<table border=\"1\" class=\"dataframe\">\n",
       "  <thead>\n",
       "    <tr style=\"text-align: right;\">\n",
       "      <th></th>\n",
       "      <th>date</th>\n",
       "      <th>category</th>\n",
       "      <th>units_sold</th>\n",
       "    </tr>\n",
       "  </thead>\n",
       "  <tbody>\n",
       "    <tr>\n",
       "      <th>0</th>\n",
       "      <td>2021-08-17</td>\n",
       "      <td>CATEG-1</td>\n",
       "      <td>59</td>\n",
       "    </tr>\n",
       "    <tr>\n",
       "      <th>1</th>\n",
       "      <td>2020-09-19</td>\n",
       "      <td>CATEG-1</td>\n",
       "      <td>40</td>\n",
       "    </tr>\n",
       "    <tr>\n",
       "      <th>2</th>\n",
       "      <td>2021-10-26</td>\n",
       "      <td>CATEG-2</td>\n",
       "      <td>23</td>\n",
       "    </tr>\n",
       "    <tr>\n",
       "      <th>3</th>\n",
       "      <td>2021-04-27</td>\n",
       "      <td>CATEG-1</td>\n",
       "      <td>60</td>\n",
       "    </tr>\n",
       "    <tr>\n",
       "      <th>4</th>\n",
       "      <td>2021-05-05</td>\n",
       "      <td>CATEG-2</td>\n",
       "      <td>61</td>\n",
       "    </tr>\n",
       "  </tbody>\n",
       "</table>\n",
       "</div>"
      ],
      "text/plain": [
       "         date category  units_sold\n",
       "0  2021-08-17  CATEG-1          59\n",
       "1  2020-09-19  CATEG-1          40\n",
       "2  2021-10-26  CATEG-2          23\n",
       "3  2021-04-27  CATEG-1          60\n",
       "4  2021-05-05  CATEG-2          61"
      ]
     },
     "execution_count": 53,
     "metadata": {},
     "output_type": "execute_result"
    }
   ],
   "source": [
    "# Open csv file and view it of test\n",
    "df = pd.read_csv(FILES_PATH+NAME_FILE)\n",
    "# Names of colums to lower for convenience\n",
    "df.columns = df.columns.str.lower()\n",
    "# Change order of columns\n",
    "df = df[['date', 'category', 'units_sold']]\n",
    "print(\"Number of rows: \"+str(df.shape[0]))\n",
    "df.head()"
   ]
  },
  {
   "cell_type": "code",
   "execution_count": 54,
   "metadata": {},
   "outputs": [
    {
     "data": {
      "text/html": [
       "<div>\n",
       "<style scoped>\n",
       "    .dataframe tbody tr th:only-of-type {\n",
       "        vertical-align: middle;\n",
       "    }\n",
       "\n",
       "    .dataframe tbody tr th {\n",
       "        vertical-align: top;\n",
       "    }\n",
       "\n",
       "    .dataframe thead th {\n",
       "        text-align: right;\n",
       "    }\n",
       "</style>\n",
       "<table border=\"1\" class=\"dataframe\">\n",
       "  <thead>\n",
       "    <tr style=\"text-align: right;\">\n",
       "      <th></th>\n",
       "      <th>category_1</th>\n",
       "      <th>category_2</th>\n",
       "      <th>category_3</th>\n",
       "    </tr>\n",
       "    <tr>\n",
       "      <th>date</th>\n",
       "      <th></th>\n",
       "      <th></th>\n",
       "      <th></th>\n",
       "    </tr>\n",
       "  </thead>\n",
       "  <tbody>\n",
       "    <tr>\n",
       "      <th>2018-09-24</th>\n",
       "      <td>NaN</td>\n",
       "      <td>NaN</td>\n",
       "      <td>0.0</td>\n",
       "    </tr>\n",
       "    <tr>\n",
       "      <th>2018-09-25</th>\n",
       "      <td>NaN</td>\n",
       "      <td>NaN</td>\n",
       "      <td>0.0</td>\n",
       "    </tr>\n",
       "    <tr>\n",
       "      <th>2018-09-26</th>\n",
       "      <td>NaN</td>\n",
       "      <td>NaN</td>\n",
       "      <td>NaN</td>\n",
       "    </tr>\n",
       "    <tr>\n",
       "      <th>2018-09-27</th>\n",
       "      <td>NaN</td>\n",
       "      <td>NaN</td>\n",
       "      <td>0.0</td>\n",
       "    </tr>\n",
       "    <tr>\n",
       "      <th>2018-09-28</th>\n",
       "      <td>NaN</td>\n",
       "      <td>NaN</td>\n",
       "      <td>2.0</td>\n",
       "    </tr>\n",
       "  </tbody>\n",
       "</table>\n",
       "</div>"
      ],
      "text/plain": [
       "            category_1  category_2  category_3\n",
       "date                                          \n",
       "2018-09-24         NaN         NaN         0.0\n",
       "2018-09-25         NaN         NaN         0.0\n",
       "2018-09-26         NaN         NaN         NaN\n",
       "2018-09-27         NaN         NaN         0.0\n",
       "2018-09-28         NaN         NaN         2.0"
      ]
     },
     "execution_count": 54,
     "metadata": {},
     "output_type": "execute_result"
    }
   ],
   "source": [
    "# Prepare dataset\n",
    "\n",
    "# Change to datetime the column date\n",
    "df['date'] = pd.to_datetime(df['date'], format = '%Y-%m-%d')\n",
    "# Pivot\n",
    "df = pd.pivot_table(\n",
    "    data = df,\n",
    "    values = 'units_sold',\n",
    "    index = 'date',\n",
    "    columns = 'category'\n",
    ")\n",
    "# Columns name\n",
    "df.columns.name = None\n",
    "df.columns = [f\"category_{category[-1]}\" for category in df.columns]\n",
    "df = df.asfreq(\"1D\")\n",
    "df = df.sort_index()\n",
    "df.head()\n"
   ]
  },
  {
   "cell_type": "code",
   "execution_count": 55,
   "metadata": {},
   "outputs": [
    {
     "name": "stdout",
     "output_type": "stream",
     "text": [
      "(1146, 4)\n"
     ]
    },
    {
     "data": {
      "image/png": "[encoded data removed]",
      "text/plain": [
       "<Figure size 576x576 with 1 Axes>"
      ]
     },
     "metadata": {
      "needs_background": "light"
     },
     "output_type": "display_data"
    }
   ],
   "source": [
    "# Sanity check, nan values per date\n",
    "df_nan = df.reset_index()\n",
    "df_nan.head()\n",
    "print(df_nan.shape)\n",
    "# Plot nan percentage by date\n",
    "nan_percentage = df_nan.isnull().sum(axis = 1) / (df_nan.shape[1]-1) * 100\n",
    "# Plot the nan percentage\n",
    "plt.figure(figsize=(8,8))\n",
    "plt.plot(df_nan['date'], nan_percentage, marker = 'o', linestyle = '-')\n",
    "plt.xlabel('Date')\n",
    "plt.ylabel('Nan Percentage')\n",
    "plt.title('Nan Percentage by Date')\n",
    "plt.xticks(rotation = 45)\n",
    "plt.grid(True)\n",
    "plt.show()"
   ]
  },
  {
   "cell_type": "code",
   "execution_count": 56,
   "metadata": {},
   "outputs": [
    {
     "data": {
      "text/plain": [
       "category_1    0\n",
       "category_2    8\n",
       "category_3    0\n",
       "dtype: int64"
      ]
     },
     "execution_count": 56,
     "metadata": {},
     "output_type": "execute_result"
    }
   ],
   "source": [
    "# Delete indexes less than threshold date\n",
    "df = df.loc[df.index >= '2019-06-11\t']\n",
    "# Still existing missing values?\n",
    "df.isna().sum() # 2019-08-13\t"
   ]
  },
  {
   "cell_type": "code",
   "execution_count": 59,
   "metadata": {},
   "outputs": [
    {
     "data": {
      "text/html": [
       "<div>\n",
       "<style scoped>\n",
       "    .dataframe tbody tr th:only-of-type {\n",
       "        vertical-align: middle;\n",
       "    }\n",
       "\n",
       "    .dataframe tbody tr th {\n",
       "        vertical-align: top;\n",
       "    }\n",
       "\n",
       "    .dataframe thead th {\n",
       "        text-align: right;\n",
       "    }\n",
       "</style>\n",
       "<table border=\"1\" class=\"dataframe\">\n",
       "  <thead>\n",
       "    <tr style=\"text-align: right;\">\n",
       "      <th></th>\n",
       "      <th>category_1</th>\n",
       "      <th>category_2</th>\n",
       "      <th>category_3</th>\n",
       "    </tr>\n",
       "  </thead>\n",
       "  <tbody>\n",
       "    <tr>\n",
       "      <th>count</th>\n",
       "      <td>886.000000</td>\n",
       "      <td>886.000000</td>\n",
       "      <td>886.000000</td>\n",
       "    </tr>\n",
       "    <tr>\n",
       "      <th>mean</th>\n",
       "      <td>53.189616</td>\n",
       "      <td>44.466140</td>\n",
       "      <td>1513.197517</td>\n",
       "    </tr>\n",
       "    <tr>\n",
       "      <th>std</th>\n",
       "      <td>31.891344</td>\n",
       "      <td>59.315555</td>\n",
       "      <td>837.073072</td>\n",
       "    </tr>\n",
       "    <tr>\n",
       "      <th>min</th>\n",
       "      <td>8.000000</td>\n",
       "      <td>1.000000</td>\n",
       "      <td>357.000000</td>\n",
       "    </tr>\n",
       "    <tr>\n",
       "      <th>25%</th>\n",
       "      <td>31.000000</td>\n",
       "      <td>9.000000</td>\n",
       "      <td>708.000000</td>\n",
       "    </tr>\n",
       "    <tr>\n",
       "      <th>50%</th>\n",
       "      <td>47.000000</td>\n",
       "      <td>19.000000</td>\n",
       "      <td>1505.500000</td>\n",
       "    </tr>\n",
       "    <tr>\n",
       "      <th>75%</th>\n",
       "      <td>65.000000</td>\n",
       "      <td>51.000000</td>\n",
       "      <td>2022.000000</td>\n",
       "    </tr>\n",
       "    <tr>\n",
       "      <th>max</th>\n",
       "      <td>210.000000</td>\n",
       "      <td>332.000000</td>\n",
       "      <td>7551.000000</td>\n",
       "    </tr>\n",
       "  </tbody>\n",
       "</table>\n",
       "</div>"
      ],
      "text/plain": [
       "       category_1  category_2   category_3\n",
       "count  886.000000  886.000000   886.000000\n",
       "mean    53.189616   44.466140  1513.197517\n",
       "std     31.891344   59.315555   837.073072\n",
       "min      8.000000    1.000000   357.000000\n",
       "25%     31.000000    9.000000   708.000000\n",
       "50%     47.000000   19.000000  1505.500000\n",
       "75%     65.000000   51.000000  2022.000000\n",
       "max    210.000000  332.000000  7551.000000"
      ]
     },
     "execution_count": 59,
     "metadata": {},
     "output_type": "execute_result"
    }
   ],
   "source": [
    "# Linear interpolation to impute missing values\n",
    "df['category_2'] = (df['category_2'].interpolate(option = 'linear')).round()\n",
    "df.describe()"
   ]
  },
  {
   "cell_type": "code",
   "execution_count": 62,
   "metadata": {},
   "outputs": [
    {
     "name": "stdout",
     "output_type": "stream",
     "text": [
      "Min Date: 2019-06-11 00:00:00\n",
      "Max Date: 2021-11-12 00:00:00\n"
     ]
    }
   ],
   "source": [
    "# Check min and max dates from dataset\n",
    "print(\"Min Date:\", df.index.min())\n",
    "print(\"Max Date:\", df.index.max())"
   ]
  },
  {
   "cell_type": "code",
   "execution_count": 65,
   "metadata": {},
   "outputs": [
    {
     "name": "stdout",
     "output_type": "stream",
     "text": [
      "Fechas train      : 2019-06-11 00:00:00 --- 2021-03-31 00:00:00  (n=660)\n",
      "Fechas test : 2021-04-01 00:00:00 --- 2021-07-30 00:00:00  (n=121)\n",
      "Fechas validación: 2021-07-31 00:00:00 --- 2021-11-12 00:00:00  (n=105)\n"
     ]
    }
   ],
   "source": [
    "end_train = '2021-03-31 23:59:00'\n",
    "end_test = '2021-07-30 23:59:00'\n",
    "\n",
    "df_train = df.loc[:end_train, :].copy()\n",
    "df_test   = df.loc[end_train:end_test, :].copy()\n",
    "df_val  = df.loc[end_test:, :].copy()\n",
    "\n",
    "print(f\"Fechas train      : {df_train.index.min()} --- {df_train.index.max()}  (n={len(df_train)})\")\n",
    "print(f\"Fechas test : {df_test.index.min()} --- {df_test.index.max()}  (n={len(df_test)})\")\n",
    "print(f\"Fechas validación: {df_val.index.min()} --- {df_val.index.max()}  (n={len(df_val)})\")"
   ]
  },
  {
   "cell_type": "code",
   "execution_count": 67,
   "metadata": {},
   "outputs": [
    {
     "name": "stderr",
     "output_type": "stream",
     "text": [
      "/Library/Frameworks/Python.framework/Versions/3.10/lib/python3.10/site-packages/pandas/plotting/_matplotlib/__init__.py:71: UserWarning: To output multiple subplots, the figure containing the passed axes is being cleared\n",
      "  plot_obj.generate()\n"
     ]
    },
    {
     "data": {
      "image/png": "[encoded data removed]",
      "text/plain": [
       "<Figure size 720x576 with 3 Axes>"
      ]
     },
     "metadata": {
      "needs_background": "light"
     },
     "output_type": "display_data"
    }
   ],
   "source": [
    "# Plot the series\n",
    "fig, ax = plt.subplots(figsize = (10,8))\n",
    "df.iloc[:, :3].plot(\n",
    "    legend = True,\n",
    "    subplots = True,\n",
    "    sharex = True, \n",
    "    title = \"Units sold per category\",\n",
    "    ax = ax\n",
    ");"
   ]
  },
  {
   "cell_type": "code",
   "execution_count": 68,
   "metadata": {},
   "outputs": [
    {
     "data": {
      "image/png": "[encoded data removed]",
      "text/plain": [
       "<Figure size 720x576 with 3 Axes>"
      ]
     },
     "metadata": {
      "needs_background": "light"
     },
     "output_type": "display_data"
    }
   ],
   "source": [
    "# Autocorrelation plots\n",
    "fig, axes = plt.subplots(nrows = 3, ncols = 1, figsize = (10,8), sharex = True)\n",
    "axes = axes.flat\n",
    "for i, col in enumerate(df.columns[:3]):\n",
    "    plot_acf(df[col], ax = axes[i], lags = 7*5)\n",
    "    axes[i].set_title(f\"{col}\")\n",
    "fig.tight_layout()\n",
    "plt.show()    "
   ]
  },
  {
   "attachments": {},
   "cell_type": "markdown",
   "metadata": {},
   "source": [
    "Observamos que existe una asociación positiva entre las ventas de un día versus los de la semana anterior. Así que los modelos autorregresivos son una buena opción."
   ]
  },
  {
   "attachments": {},
   "cell_type": "markdown",
   "metadata": {},
   "source": [
    "### Individual forecasting by category"
   ]
  },
  {
   "cell_type": "code",
   "execution_count": 90,
   "metadata": {},
   "outputs": [
    {
     "name": "stderr",
     "output_type": "stream",
     "text": [
      "  0%|          | 0/3 [00:00<?, ?it/s]"
     ]
    },
    {
     "data": {
      "application/json": {
       "ascii": false,
       "bar_format": null,
       "colour": null,
       "elapsed": 0.026981830596923828,
       "initial": 0,
       "n": 0,
       "ncols": null,
       "nrows": null,
       "postfix": null,
       "prefix": "",
       "rate": null,
       "total": 5,
       "unit": "it",
       "unit_divisor": 1000,
       "unit_scale": false
      },
      "application/vnd.jupyter.widget-view+json": {
       "model_id": "d38e93e8638249038f795a253e4eec12",
       "version_major": 2,
       "version_minor": 0
      },
      "text/plain": [
       "  0%|          | 0/5 [00:00<?, ?it/s]"
      ]
     },
     "metadata": {},
     "output_type": "display_data"
    },
    {
     "name": "stderr",
     "output_type": "stream",
     "text": [
      " 33%|███▎      | 1/3 [00:00<00:01,  1.23it/s]"
     ]
    },
    {
     "data": {
      "application/json": {
       "ascii": false,
       "bar_format": null,
       "colour": null,
       "elapsed": 0.025235891342163086,
       "initial": 0,
       "n": 0,
       "ncols": null,
       "nrows": null,
       "postfix": null,
       "prefix": "",
       "rate": null,
       "total": 5,
       "unit": "it",
       "unit_divisor": 1000,
       "unit_scale": false
      },
      "application/vnd.jupyter.widget-view+json": {
       "model_id": "30cf985efdf8493e8f3bc2303e42cbdd",
       "version_major": 2,
       "version_minor": 0
      },
      "text/plain": [
       "  0%|          | 0/5 [00:00<?, ?it/s]"
      ]
     },
     "metadata": {},
     "output_type": "display_data"
    },
    {
     "name": "stderr",
     "output_type": "stream",
     "text": [
      " 67%|██████▋   | 2/3 [00:01<00:00,  1.05it/s]"
     ]
    },
    {
     "data": {
      "application/json": {
       "ascii": false,
       "bar_format": null,
       "colour": null,
       "elapsed": 0.02572798728942871,
       "initial": 0,
       "n": 0,
       "ncols": null,
       "nrows": null,
       "postfix": null,
       "prefix": "",
       "rate": null,
       "total": 5,
       "unit": "it",
       "unit_divisor": 1000,
       "unit_scale": false
      },
      "application/vnd.jupyter.widget-view+json": {
       "model_id": "faeba7192f634c68bde91697ed62d77e",
       "version_major": 2,
       "version_minor": 0
      },
      "text/plain": [
       "  0%|          | 0/5 [00:00<?, ?it/s]"
      ]
     },
     "metadata": {},
     "output_type": "display_data"
    },
    {
     "name": "stderr",
     "output_type": "stream",
     "text": [
      "100%|██████████| 3/3 [00:02<00:00,  1.16it/s]\n"
     ]
    }
   ],
   "source": [
    "# Train a different model for each category and estimate Mean Absolute Error using backtesting\n",
    "categories = []\n",
    "mae_values = []\n",
    "predictions = {}\n",
    "\n",
    "# Loop to create each model\n",
    "for i, category in enumerate(tqdm(df.columns)):\n",
    "    # Define forecaster\n",
    "    forecaster = ForecasterAutoreg(\n",
    "                    regressor = HistGradientBoostingRegressor(random_state=123),\n",
    "                    lags = 14,\n",
    "                    transformer_y= StandardScaler()\n",
    "    )\n",
    "    # Backtesting forecaster\n",
    "    metric, preds = backtesting_forecaster(\n",
    "        forecaster=forecaster,\n",
    "        y = df[category],\n",
    "        initial_train_size = len(df_train) + len(df_test),\n",
    "        steps = 21,\n",
    "        metric = \"mean_absolute_error\",\n",
    "        refit = False,\n",
    "        fixed_train_size = False,\n",
    "        verbose = False\n",
    "    )\n",
    "    categories.append(category)\n",
    "    mae_values.append(metric)\n",
    "    predictions[category] = preds\n",
    "\n",
    "# Results\n",
    "uni_series_mae = pd.Series(\n",
    "    data = mae_values,\n",
    "    index = categories,\n",
    "    name = 'uni_series_mae'\n",
    ")"
   ]
  },
  {
   "attachments": {},
   "cell_type": "markdown",
   "metadata": {},
   "source": [
    "### Multiserie Forecasting"
   ]
  },
  {
   "cell_type": "code",
   "execution_count": 76,
   "metadata": {},
   "outputs": [
    {
     "data": {
      "application/json": {
       "ascii": false,
       "bar_format": null,
       "colour": null,
       "elapsed": 0.026100873947143555,
       "initial": 0,
       "n": 0,
       "ncols": null,
       "nrows": null,
       "postfix": null,
       "prefix": "",
       "rate": null,
       "total": 5,
       "unit": "it",
       "unit_divisor": 1000,
       "unit_scale": false
      },
      "application/vnd.jupyter.widget-view+json": {
       "model_id": "5fd2c1a585fe48008f12845c742efdf8",
       "version_major": 2,
       "version_minor": 0
      },
      "text/plain": [
       "  0%|          | 0/5 [00:00<?, ?it/s]"
      ]
     },
     "metadata": {},
     "output_type": "display_data"
    },
    {
     "data": {
      "text/html": [
       "<div>\n",
       "<style scoped>\n",
       "    .dataframe tbody tr th:only-of-type {\n",
       "        vertical-align: middle;\n",
       "    }\n",
       "\n",
       "    .dataframe tbody tr th {\n",
       "        vertical-align: top;\n",
       "    }\n",
       "\n",
       "    .dataframe thead th {\n",
       "        text-align: right;\n",
       "    }\n",
       "</style>\n",
       "<table border=\"1\" class=\"dataframe\">\n",
       "  <thead>\n",
       "    <tr style=\"text-align: right;\">\n",
       "      <th></th>\n",
       "      <th>levels</th>\n",
       "      <th>mean_absolute_error</th>\n",
       "    </tr>\n",
       "  </thead>\n",
       "  <tbody>\n",
       "    <tr>\n",
       "      <th>0</th>\n",
       "      <td>category_1</td>\n",
       "      <td>10.630443</td>\n",
       "    </tr>\n",
       "    <tr>\n",
       "      <th>1</th>\n",
       "      <td>category_2</td>\n",
       "      <td>5.449253</td>\n",
       "    </tr>\n",
       "    <tr>\n",
       "      <th>2</th>\n",
       "      <td>category_3</td>\n",
       "      <td>339.835487</td>\n",
       "    </tr>\n",
       "  </tbody>\n",
       "</table>\n",
       "</div>"
      ],
      "text/plain": [
       "       levels  mean_absolute_error\n",
       "0  category_1            10.630443\n",
       "1  category_2             5.449253\n",
       "2  category_3           339.835487"
      ]
     },
     "metadata": {},
     "output_type": "display_data"
    },
    {
     "name": "stdout",
     "output_type": "stream",
     "text": [
      "-------------\n"
     ]
    },
    {
     "data": {
      "text/html": [
       "<div>\n",
       "<style scoped>\n",
       "    .dataframe tbody tr th:only-of-type {\n",
       "        vertical-align: middle;\n",
       "    }\n",
       "\n",
       "    .dataframe tbody tr th {\n",
       "        vertical-align: top;\n",
       "    }\n",
       "\n",
       "    .dataframe thead th {\n",
       "        text-align: right;\n",
       "    }\n",
       "</style>\n",
       "<table border=\"1\" class=\"dataframe\">\n",
       "  <thead>\n",
       "    <tr style=\"text-align: right;\">\n",
       "      <th></th>\n",
       "      <th>category_1</th>\n",
       "      <th>category_2</th>\n",
       "      <th>category_3</th>\n",
       "    </tr>\n",
       "  </thead>\n",
       "  <tbody>\n",
       "    <tr>\n",
       "      <th>2021-07-31</th>\n",
       "      <td>43.374889</td>\n",
       "      <td>43.072192</td>\n",
       "      <td>1648.241670</td>\n",
       "    </tr>\n",
       "    <tr>\n",
       "      <th>2021-08-01</th>\n",
       "      <td>46.293453</td>\n",
       "      <td>42.998269</td>\n",
       "      <td>1896.551218</td>\n",
       "    </tr>\n",
       "    <tr>\n",
       "      <th>2021-08-02</th>\n",
       "      <td>64.961399</td>\n",
       "      <td>48.121701</td>\n",
       "      <td>1953.243719</td>\n",
       "    </tr>\n",
       "    <tr>\n",
       "      <th>2021-08-03</th>\n",
       "      <td>69.274717</td>\n",
       "      <td>49.044735</td>\n",
       "      <td>2013.779703</td>\n",
       "    </tr>\n",
       "    <tr>\n",
       "      <th>2021-08-04</th>\n",
       "      <td>61.315824</td>\n",
       "      <td>49.910971</td>\n",
       "      <td>1961.269419</td>\n",
       "    </tr>\n",
       "  </tbody>\n",
       "</table>\n",
       "</div>"
      ],
      "text/plain": [
       "            category_1  category_2   category_3\n",
       "2021-07-31   43.374889   43.072192  1648.241670\n",
       "2021-08-01   46.293453   42.998269  1896.551218\n",
       "2021-08-02   64.961399   48.121701  1953.243719\n",
       "2021-08-03   69.274717   49.044735  2013.779703\n",
       "2021-08-04   61.315824   49.910971  1961.269419"
      ]
     },
     "metadata": {},
     "output_type": "display_data"
    }
   ],
   "source": [
    "# Train a model for all the categories\n",
    "categories = list(df.columns)\n",
    "\n",
    "# Define forecaster\n",
    "forecaster_multi = ForecasterAutoregMultiSeries(\n",
    "    regressor=HistGradientBoostingRegressor(random_state=123),\n",
    "    lags=14,\n",
    "    transformer_series=StandardScaler()\n",
    ")\n",
    "# Backtesting forecaster\n",
    "multi_series_mae, preds_multi = backtesting_forecaster_multiseries(\n",
    "    forecaster=forecaster_multi,\n",
    "    series=df,\n",
    "    levels=categories,\n",
    "    steps=21,\n",
    "    metric='mean_absolute_error',\n",
    "    initial_train_size=len(df_train)+len(df_test),\n",
    "    refit = False,\n",
    "    fixed_train_size=False,\n",
    "    verbose=False\n",
    ")\n",
    "# Results\n",
    "display(multi_series_mae)\n",
    "print('-------------')\n",
    "display(preds_multi.head())"
   ]
  },
  {
   "cell_type": "code",
   "execution_count": 77,
   "metadata": {},
   "outputs": [
    {
     "data": {
      "text/html": [
       "<div>\n",
       "<style scoped>\n",
       "    .dataframe tbody tr th:only-of-type {\n",
       "        vertical-align: middle;\n",
       "    }\n",
       "\n",
       "    .dataframe tbody tr th {\n",
       "        vertical-align: top;\n",
       "    }\n",
       "\n",
       "    .dataframe thead th {\n",
       "        text-align: right;\n",
       "    }\n",
       "</style>\n",
       "<table border=\"1\" class=\"dataframe\">\n",
       "  <thead>\n",
       "    <tr style=\"text-align: right;\">\n",
       "      <th></th>\n",
       "      <th>uni_series_mae</th>\n",
       "      <th>multi_series_mae</th>\n",
       "      <th>improvement</th>\n",
       "      <th>improvement %</th>\n",
       "    </tr>\n",
       "  </thead>\n",
       "  <tbody>\n",
       "    <tr>\n",
       "      <th>category_1</th>\n",
       "      <td>10.80</td>\n",
       "      <td>10.63</td>\n",
       "      <td>0.17</td>\n",
       "      <td>1.59</td>\n",
       "    </tr>\n",
       "    <tr>\n",
       "      <th>category_2</th>\n",
       "      <td>6.37</td>\n",
       "      <td>5.45</td>\n",
       "      <td>0.92</td>\n",
       "      <td>14.47</td>\n",
       "    </tr>\n",
       "    <tr>\n",
       "      <th>category_3</th>\n",
       "      <td>368.99</td>\n",
       "      <td>339.84</td>\n",
       "      <td>29.15</td>\n",
       "      <td>7.90</td>\n",
       "    </tr>\n",
       "  </tbody>\n",
       "</table>\n",
       "</div>"
      ],
      "text/plain": [
       "            uni_series_mae  multi_series_mae  improvement  improvement %\n",
       "category_1           10.80             10.63         0.17           1.59\n",
       "category_2            6.37              5.45         0.92          14.47\n",
       "category_3          368.99            339.84        29.15           7.90"
      ]
     },
     "execution_count": 77,
     "metadata": {},
     "output_type": "execute_result"
    }
   ],
   "source": [
    "# Compare two models\n",
    "multi_series_mae = multi_series_mae.set_index('levels')\n",
    "multi_series_mae.columns = ['multi_series_mae']\n",
    "results = pd.concat(\n",
    "    [uni_series_mae, multi_series_mae], axis = 1\n",
    ")\n",
    "results['improvement'] = results.eval('uni_series_mae - multi_series_mae')\n",
    "results['improvement %'] = 100 * results.eval('(uni_series_mae - multi_series_mae) / uni_series_mae')\n",
    "results = results.round(2)\n",
    "results"
   ]
  },
  {
   "cell_type": "code",
   "execution_count": 80,
   "metadata": {},
   "outputs": [
    {
     "data": {
      "text/html": [
       "<div>\n",
       "<style scoped>\n",
       "    .dataframe tbody tr th:only-of-type {\n",
       "        vertical-align: middle;\n",
       "    }\n",
       "\n",
       "    .dataframe tbody tr th {\n",
       "        vertical-align: top;\n",
       "    }\n",
       "\n",
       "    .dataframe thead th {\n",
       "        text-align: right;\n",
       "    }\n",
       "</style>\n",
       "<table border=\"1\" class=\"dataframe\">\n",
       "  <thead>\n",
       "    <tr style=\"text-align: right;\">\n",
       "      <th></th>\n",
       "      <th>improvement</th>\n",
       "      <th>improvement %</th>\n",
       "    </tr>\n",
       "  </thead>\n",
       "  <tbody>\n",
       "    <tr>\n",
       "      <th>mean</th>\n",
       "      <td>10.08</td>\n",
       "      <td>7.99</td>\n",
       "    </tr>\n",
       "    <tr>\n",
       "      <th>min</th>\n",
       "      <td>0.17</td>\n",
       "      <td>1.59</td>\n",
       "    </tr>\n",
       "    <tr>\n",
       "      <th>max</th>\n",
       "      <td>29.15</td>\n",
       "      <td>14.47</td>\n",
       "    </tr>\n",
       "  </tbody>\n",
       "</table>\n",
       "</div>"
      ],
      "text/plain": [
       "      improvement  improvement %\n",
       "mean        10.08           7.99\n",
       "min          0.17           1.59\n",
       "max         29.15          14.47"
      ]
     },
     "execution_count": 80,
     "metadata": {},
     "output_type": "execute_result"
    }
   ],
   "source": [
    "# Mean improvements\n",
    "results[['improvement', 'improvement %']].agg(['mean', 'min', 'max']).round(2)"
   ]
  },
  {
   "cell_type": "code",
   "execution_count": 92,
   "metadata": {},
   "outputs": [
    {
     "data": {
      "image/png": "[encoded data removed]",
      "text/plain": [
       "<Figure size 792x288 with 1 Axes>"
      ]
     },
     "metadata": {
      "needs_background": "light"
     },
     "output_type": "display_data"
    }
   ],
   "source": [
    "# Plot the item with the best improvement\n",
    "fig, ax=plt.subplots(figsize=(11, 4))\n",
    "df_val['category_3'].tail(60).plot(ax=ax)\n",
    "predictions['category_3'].tail(60).plot(ax=ax)\n",
    "preds_multi['category_3'].tail(60).plot(ax=ax)\n",
    "ax.legend(['real', 'predictions single forecaster', 'predictions multi series forecaster']);"
   ]
  },
  {
   "cell_type": "code",
   "execution_count": 93,
   "metadata": {},
   "outputs": [
    {
     "data": {
      "image/png": "[encoded data removed]",
      "text/plain": [
       "<Figure size 792x288 with 1 Axes>"
      ]
     },
     "metadata": {
      "needs_background": "light"
     },
     "output_type": "display_data"
    }
   ],
   "source": [
    "# Plot the item with the lowest improvement\n",
    "fig, ax=plt.subplots(figsize=(11, 4))\n",
    "df_val['category_1'].tail(60).plot(ax=ax)\n",
    "predictions['category_1'].tail(60).plot(ax=ax)\n",
    "preds_multi['category_1'].tail(60).plot(ax=ax)\n",
    "ax.legend(['real', 'predictions single forecaster', 'predictions multi series forecaster']);"
   ]
  },
  {
   "attachments": {},
   "cell_type": "markdown",
   "metadata": {},
   "source": [
    "### Hiperparameter tuning"
   ]
  },
  {
   "cell_type": "code",
   "execution_count": 94,
   "metadata": {},
   "outputs": [],
   "source": [
    "# Hide progress bar\n",
    "from tqdm import tqdm \n",
    "from functools import partialmethod \n",
    "tqdm.__init__ = partialmethod(tqdm.__init__, disable = True)"
   ]
  },
  {
   "cell_type": "code",
   "execution_count": 97,
   "metadata": {},
   "outputs": [
    {
     "name": "stdout",
     "output_type": "stream",
     "text": [
      "Number of models compared: 48.\n"
     ]
    },
    {
     "data": {
      "application/json": {
       "ascii": false,
       "bar_format": null,
       "colour": null,
       "elapsed": 0.028098106384277344,
       "initial": 0,
       "n": 0,
       "ncols": null,
       "nrows": null,
       "postfix": null,
       "prefix": "lags grid",
       "rate": null,
       "total": 3,
       "unit": "it",
       "unit_divisor": 1000,
       "unit_scale": false
      },
      "application/vnd.jupyter.widget-view+json": {
       "model_id": "f5bccb83ad2243c9abe54ef061a0e027",
       "version_major": 2,
       "version_minor": 0
      },
      "text/plain": [
       "lags grid:   0%|          | 0/3 [00:00<?, ?it/s]"
      ]
     },
     "metadata": {},
     "output_type": "display_data"
    },
    {
     "data": {
      "application/json": {
       "ascii": false,
       "bar_format": null,
       "colour": null,
       "elapsed": 0.02876901626586914,
       "initial": 0,
       "n": 0,
       "ncols": null,
       "nrows": null,
       "postfix": null,
       "prefix": "params grid",
       "rate": null,
       "total": 16,
       "unit": "it",
       "unit_divisor": 1000,
       "unit_scale": false
      },
      "application/vnd.jupyter.widget-view+json": {
       "model_id": "87deac55bb9e4decaec4eb6d92effbea",
       "version_major": 2,
       "version_minor": 0
      },
      "text/plain": [
       "params grid:   0%|          | 0/16 [00:00<?, ?it/s]"
      ]
     },
     "metadata": {},
     "output_type": "display_data"
    },
    {
     "data": {
      "application/json": {
       "ascii": false,
       "bar_format": null,
       "colour": null,
       "elapsed": 0.027008056640625,
       "initial": 0,
       "n": 0,
       "ncols": null,
       "nrows": null,
       "postfix": null,
       "prefix": "params grid",
       "rate": null,
       "total": 16,
       "unit": "it",
       "unit_divisor": 1000,
       "unit_scale": false
      },
      "application/vnd.jupyter.widget-view+json": {
       "model_id": "86a21779f8104e7d9718099d21096a82",
       "version_major": 2,
       "version_minor": 0
      },
      "text/plain": [
       "params grid:   0%|          | 0/16 [00:00<?, ?it/s]"
      ]
     },
     "metadata": {},
     "output_type": "display_data"
    },
    {
     "data": {
      "application/json": {
       "ascii": false,
       "bar_format": null,
       "colour": null,
       "elapsed": 0.027189016342163086,
       "initial": 0,
       "n": 0,
       "ncols": null,
       "nrows": null,
       "postfix": null,
       "prefix": "params grid",
       "rate": null,
       "total": 16,
       "unit": "it",
       "unit_divisor": 1000,
       "unit_scale": false
      },
      "application/vnd.jupyter.widget-view+json": {
       "model_id": "d9efda752ed44bd381f4b977e032cdb0",
       "version_major": 2,
       "version_minor": 0
      },
      "text/plain": [
       "params grid:   0%|          | 0/16 [00:00<?, ?it/s]"
      ]
     },
     "metadata": {},
     "output_type": "display_data"
    },
    {
     "name": "stdout",
     "output_type": "stream",
     "text": [
      "`Forecaster` refitted using the best-found lags and parameters, and the whole data set: \n",
      "  Lags: [ 1  2  3  4  5  6  7  8  9 10 11 12 13 14 15 16 17 18 19 20 21] \n",
      "  Parameters: {'learning_rate': 0.01, 'max_depth': 3, 'max_iter': 500}\n",
      "  Backtesting metric: 11.556725492290091\n",
      "\n"
     ]
    },
    {
     "data": {
      "application/json": {
       "ascii": false,
       "bar_format": null,
       "colour": null,
       "elapsed": 0.02649092674255371,
       "initial": 0,
       "n": 0,
       "ncols": null,
       "nrows": null,
       "postfix": null,
       "prefix": "",
       "rate": null,
       "total": 5,
       "unit": "it",
       "unit_divisor": 1000,
       "unit_scale": false
      },
      "application/vnd.jupyter.widget-view+json": {
       "model_id": "58580e26c2a14f969c5b4e5f70c4bb9a",
       "version_major": 2,
       "version_minor": 0
      },
      "text/plain": [
       "  0%|          | 0/5 [00:00<?, ?it/s]"
      ]
     },
     "metadata": {},
     "output_type": "display_data"
    },
    {
     "name": "stdout",
     "output_type": "stream",
     "text": [
      "Number of models compared: 48.\n"
     ]
    },
    {
     "data": {
      "application/json": {
       "ascii": false,
       "bar_format": null,
       "colour": null,
       "elapsed": 0.028995990753173828,
       "initial": 0,
       "n": 0,
       "ncols": null,
       "nrows": null,
       "postfix": null,
       "prefix": "lags grid",
       "rate": null,
       "total": 3,
       "unit": "it",
       "unit_divisor": 1000,
       "unit_scale": false
      },
      "application/vnd.jupyter.widget-view+json": {
       "model_id": "b7235ebc8aed4a0faab7fb3de4157634",
       "version_major": 2,
       "version_minor": 0
      },
      "text/plain": [
       "lags grid:   0%|          | 0/3 [00:00<?, ?it/s]"
      ]
     },
     "metadata": {},
     "output_type": "display_data"
    },
    {
     "data": {
      "application/json": {
       "ascii": false,
       "bar_format": null,
       "colour": null,
       "elapsed": 0.03241705894470215,
       "initial": 0,
       "n": 0,
       "ncols": null,
       "nrows": null,
       "postfix": null,
       "prefix": "params grid",
       "rate": null,
       "total": 16,
       "unit": "it",
       "unit_divisor": 1000,
       "unit_scale": false
      },
      "application/vnd.jupyter.widget-view+json": {
       "model_id": "e89dcb5c352747b89fd03562150a2084",
       "version_major": 2,
       "version_minor": 0
      },
      "text/plain": [
       "params grid:   0%|          | 0/16 [00:00<?, ?it/s]"
      ]
     },
     "metadata": {},
     "output_type": "display_data"
    },
    {
     "data": {
      "application/json": {
       "ascii": false,
       "bar_format": null,
       "colour": null,
       "elapsed": 0.030608177185058594,
       "initial": 0,
       "n": 0,
       "ncols": null,
       "nrows": null,
       "postfix": null,
       "prefix": "params grid",
       "rate": null,
       "total": 16,
       "unit": "it",
       "unit_divisor": 1000,
       "unit_scale": false
      },
      "application/vnd.jupyter.widget-view+json": {
       "model_id": "59a0ee31085a4911a8fd395a62a34676",
       "version_major": 2,
       "version_minor": 0
      },
      "text/plain": [
       "params grid:   0%|          | 0/16 [00:00<?, ?it/s]"
      ]
     },
     "metadata": {},
     "output_type": "display_data"
    },
    {
     "data": {
      "application/json": {
       "ascii": false,
       "bar_format": null,
       "colour": null,
       "elapsed": 0.02991795539855957,
       "initial": 0,
       "n": 0,
       "ncols": null,
       "nrows": null,
       "postfix": null,
       "prefix": "params grid",
       "rate": null,
       "total": 16,
       "unit": "it",
       "unit_divisor": 1000,
       "unit_scale": false
      },
      "application/vnd.jupyter.widget-view+json": {
       "model_id": "4e9de87e797c40e9b7008571beff1fca",
       "version_major": 2,
       "version_minor": 0
      },
      "text/plain": [
       "params grid:   0%|          | 0/16 [00:00<?, ?it/s]"
      ]
     },
     "metadata": {},
     "output_type": "display_data"
    },
    {
     "name": "stdout",
     "output_type": "stream",
     "text": [
      "`Forecaster` refitted using the best-found lags and parameters, and the whole data set: \n",
      "  Lags: [ 1  2  3  4  5  6  7  8  9 10 11 12 13 14 15 16 17 18 19 20 21] \n",
      "  Parameters: {'learning_rate': 0.01, 'max_depth': 3, 'max_iter': 100}\n",
      "  Backtesting metric: 16.23772149212425\n",
      "\n"
     ]
    },
    {
     "data": {
      "application/json": {
       "ascii": false,
       "bar_format": null,
       "colour": null,
       "elapsed": 0.02597212791442871,
       "initial": 0,
       "n": 0,
       "ncols": null,
       "nrows": null,
       "postfix": null,
       "prefix": "",
       "rate": null,
       "total": 5,
       "unit": "it",
       "unit_divisor": 1000,
       "unit_scale": false
      },
      "application/vnd.jupyter.widget-view+json": {
       "model_id": "eb5832bf286547d78596395f447ede03",
       "version_major": 2,
       "version_minor": 0
      },
      "text/plain": [
       "  0%|          | 0/5 [00:00<?, ?it/s]"
      ]
     },
     "metadata": {},
     "output_type": "display_data"
    },
    {
     "name": "stdout",
     "output_type": "stream",
     "text": [
      "Number of models compared: 48.\n"
     ]
    },
    {
     "data": {
      "application/json": {
       "ascii": false,
       "bar_format": null,
       "colour": null,
       "elapsed": 0.028297901153564453,
       "initial": 0,
       "n": 0,
       "ncols": null,
       "nrows": null,
       "postfix": null,
       "prefix": "lags grid",
       "rate": null,
       "total": 3,
       "unit": "it",
       "unit_divisor": 1000,
       "unit_scale": false
      },
      "application/vnd.jupyter.widget-view+json": {
       "model_id": "3dd0100f0f964c52837879a6cd72591a",
       "version_major": 2,
       "version_minor": 0
      },
      "text/plain": [
       "lags grid:   0%|          | 0/3 [00:00<?, ?it/s]"
      ]
     },
     "metadata": {},
     "output_type": "display_data"
    },
    {
     "data": {
      "application/json": {
       "ascii": false,
       "bar_format": null,
       "colour": null,
       "elapsed": 0.030991077423095703,
       "initial": 0,
       "n": 0,
       "ncols": null,
       "nrows": null,
       "postfix": null,
       "prefix": "params grid",
       "rate": null,
       "total": 16,
       "unit": "it",
       "unit_divisor": 1000,
       "unit_scale": false
      },
      "application/vnd.jupyter.widget-view+json": {
       "model_id": "bb899161b78249e69b9107b3fe9e49a3",
       "version_major": 2,
       "version_minor": 0
      },
      "text/plain": [
       "params grid:   0%|          | 0/16 [00:00<?, ?it/s]"
      ]
     },
     "metadata": {},
     "output_type": "display_data"
    },
    {
     "data": {
      "application/json": {
       "ascii": false,
       "bar_format": null,
       "colour": null,
       "elapsed": 0.030971288681030273,
       "initial": 0,
       "n": 0,
       "ncols": null,
       "nrows": null,
       "postfix": null,
       "prefix": "params grid",
       "rate": null,
       "total": 16,
       "unit": "it",
       "unit_divisor": 1000,
       "unit_scale": false
      },
      "application/vnd.jupyter.widget-view+json": {
       "model_id": "e5e61b3fb9904fef854a0a8ae27c798d",
       "version_major": 2,
       "version_minor": 0
      },
      "text/plain": [
       "params grid:   0%|          | 0/16 [00:00<?, ?it/s]"
      ]
     },
     "metadata": {},
     "output_type": "display_data"
    },
    {
     "data": {
      "application/json": {
       "ascii": false,
       "bar_format": null,
       "colour": null,
       "elapsed": 0.031790733337402344,
       "initial": 0,
       "n": 0,
       "ncols": null,
       "nrows": null,
       "postfix": null,
       "prefix": "params grid",
       "rate": null,
       "total": 16,
       "unit": "it",
       "unit_divisor": 1000,
       "unit_scale": false
      },
      "application/vnd.jupyter.widget-view+json": {
       "model_id": "02510d85d7ea40a98f13cae7a8e71990",
       "version_major": 2,
       "version_minor": 0
      },
      "text/plain": [
       "params grid:   0%|          | 0/16 [00:00<?, ?it/s]"
      ]
     },
     "metadata": {},
     "output_type": "display_data"
    },
    {
     "name": "stdout",
     "output_type": "stream",
     "text": [
      "`Forecaster` refitted using the best-found lags and parameters, and the whole data set: \n",
      "  Lags: [ 1  2  3  4  5  6  7  8  9 10 11 12 13 14 15 16 17 18 19 20 21] \n",
      "  Parameters: {'learning_rate': 0.01, 'max_depth': 3, 'max_iter': 500}\n",
      "  Backtesting metric: 322.3502697322319\n",
      "\n"
     ]
    },
    {
     "data": {
      "application/json": {
       "ascii": false,
       "bar_format": null,
       "colour": null,
       "elapsed": 0.027146100997924805,
       "initial": 0,
       "n": 0,
       "ncols": null,
       "nrows": null,
       "postfix": null,
       "prefix": "",
       "rate": null,
       "total": 5,
       "unit": "it",
       "unit_divisor": 1000,
       "unit_scale": false
      },
      "application/vnd.jupyter.widget-view+json": {
       "model_id": "cd92001dc6044919bd17526eb393a963",
       "version_major": 2,
       "version_minor": 0
      },
      "text/plain": [
       "  0%|          | 0/5 [00:00<?, ?it/s]"
      ]
     },
     "metadata": {},
     "output_type": "display_data"
    }
   ],
   "source": [
    "# Hiperparameter tuning single model per category \n",
    "categories = [] \n",
    "mae_values = [] \n",
    "lags_grid = [7,14,21]\n",
    "param_grid = {\n",
    "    'max_iter': [100, 500],\n",
    "    'max_depth': [3, 5, 10, None],\n",
    "    'learning_rate': [0.01, 0.1]\n",
    "}\n",
    "\n",
    "# For loop \n",
    "for i, category in enumerate(df.columns):\n",
    "\n",
    "    forecaster = ForecasterAutoreg(\n",
    "                     regressor     = HistGradientBoostingRegressor(random_state=123),\n",
    "                     lags          = 14,\n",
    "                     transformer_y = StandardScaler()\n",
    "                 )\n",
    "\n",
    "    results_grid = grid_search_forecaster(\n",
    "                       forecaster         = forecaster,\n",
    "                       y                  = df.loc[:end_test, category],\n",
    "                       lags_grid          = lags_grid,\n",
    "                       param_grid         = param_grid,\n",
    "                       steps              = 7,\n",
    "                       metric             = 'mean_absolute_error',\n",
    "                       initial_train_size = len(df_train),\n",
    "                       refit              = False,\n",
    "                       fixed_train_size   = False,\n",
    "                       return_best        = True,\n",
    "                       verbose            = False\n",
    "                   )\n",
    "\n",
    "    metric, preds = backtesting_forecaster(\n",
    "                        forecaster         = forecaster,\n",
    "                        y                  = df[category],\n",
    "                        initial_train_size = len(df_train) + len(df_test),\n",
    "                        steps              = 21,\n",
    "                        metric             = 'mean_absolute_error',\n",
    "                        refit              = False,\n",
    "                        fixed_train_size   = False,\n",
    "                        verbose            = False\n",
    "                    )\n",
    "\n",
    "    categories.append(category)\n",
    "    mae_values.append(metric)\n",
    "\n",
    "uni_series_mae = pd.Series(\n",
    "                     data  = mae_values,\n",
    "                     index = categories,\n",
    "                     name  = 'uni_series_mae'\n",
    "                 )"
   ]
  },
  {
   "cell_type": "code",
   "execution_count": 99,
   "metadata": {},
   "outputs": [
    {
     "name": "stdout",
     "output_type": "stream",
     "text": [
      "48 models compared for 3 level(s). Number of iterations: 48.\n"
     ]
    },
    {
     "data": {
      "application/json": {
       "ascii": false,
       "bar_format": null,
       "colour": null,
       "elapsed": 0.02913689613342285,
       "initial": 0,
       "n": 0,
       "ncols": null,
       "nrows": null,
       "postfix": null,
       "prefix": "lags grid",
       "rate": null,
       "total": 3,
       "unit": "it",
       "unit_divisor": 1000,
       "unit_scale": false
      },
      "application/vnd.jupyter.widget-view+json": {
       "model_id": "4b6daf5cb43747439ad3e61a4dead526",
       "version_major": 2,
       "version_minor": 0
      },
      "text/plain": [
       "lags grid:   0%|          | 0/3 [00:00<?, ?it/s]"
      ]
     },
     "metadata": {},
     "output_type": "display_data"
    },
    {
     "data": {
      "application/json": {
       "ascii": false,
       "bar_format": null,
       "colour": null,
       "elapsed": 0.027251005172729492,
       "initial": 0,
       "n": 0,
       "ncols": null,
       "nrows": null,
       "postfix": null,
       "prefix": "params grid",
       "rate": null,
       "total": 16,
       "unit": "it",
       "unit_divisor": 1000,
       "unit_scale": false
      },
      "application/vnd.jupyter.widget-view+json": {
       "model_id": "a6483d2b1b23425493fbf8394cb9153d",
       "version_major": 2,
       "version_minor": 0
      },
      "text/plain": [
       "params grid:   0%|          | 0/16 [00:00<?, ?it/s]"
      ]
     },
     "metadata": {},
     "output_type": "display_data"
    },
    {
     "data": {
      "application/json": {
       "ascii": false,
       "bar_format": null,
       "colour": null,
       "elapsed": 0.02860403060913086,
       "initial": 0,
       "n": 0,
       "ncols": null,
       "nrows": null,
       "postfix": null,
       "prefix": "params grid",
       "rate": null,
       "total": 16,
       "unit": "it",
       "unit_divisor": 1000,
       "unit_scale": false
      },
      "application/vnd.jupyter.widget-view+json": {
       "model_id": "9261085249bf43efa5f9d22182d945a9",
       "version_major": 2,
       "version_minor": 0
      },
      "text/plain": [
       "params grid:   0%|          | 0/16 [00:00<?, ?it/s]"
      ]
     },
     "metadata": {},
     "output_type": "display_data"
    },
    {
     "data": {
      "application/json": {
       "ascii": false,
       "bar_format": null,
       "colour": null,
       "elapsed": 0.029457807540893555,
       "initial": 0,
       "n": 0,
       "ncols": null,
       "nrows": null,
       "postfix": null,
       "prefix": "params grid",
       "rate": null,
       "total": 16,
       "unit": "it",
       "unit_divisor": 1000,
       "unit_scale": false
      },
      "application/vnd.jupyter.widget-view+json": {
       "model_id": "2a7bba00875049baafc6271478c81cfb",
       "version_major": 2,
       "version_minor": 0
      },
      "text/plain": [
       "params grid:   0%|          | 0/16 [00:00<?, ?it/s]"
      ]
     },
     "metadata": {},
     "output_type": "display_data"
    },
    {
     "name": "stdout",
     "output_type": "stream",
     "text": [
      "`Forecaster` refitted using the best-found lags and parameters, and the whole data set: \n",
      "  Lags: [ 1  2  3  4  5  6  7  8  9 10 11 12 13 14 15 16 17 18 19 20 21]\n",
      "  Parameters: {'learning_rate': 0.01, 'max_depth': 5, 'max_iter': 500}\n",
      "  Backtesting metric: 112.90765012294194\n",
      "  Levels: ['category_1', 'category_2', 'category_3']\n",
      "\n"
     ]
    },
    {
     "data": {
      "application/json": {
       "ascii": false,
       "bar_format": null,
       "colour": null,
       "elapsed": 0.02544403076171875,
       "initial": 0,
       "n": 0,
       "ncols": null,
       "nrows": null,
       "postfix": null,
       "prefix": "",
       "rate": null,
       "total": 15,
       "unit": "it",
       "unit_divisor": 1000,
       "unit_scale": false
      },
      "application/vnd.jupyter.widget-view+json": {
       "model_id": "77ef5117924a4dc4add49068b4c36f0e",
       "version_major": 2,
       "version_minor": 0
      },
      "text/plain": [
       "  0%|          | 0/15 [00:00<?, ?it/s]"
      ]
     },
     "metadata": {},
     "output_type": "display_data"
    }
   ],
   "source": [
    "# Hiperparameter tuning multiserie model\n",
    "lags_grid = [7, 14, 21]\n",
    "param_grid = {\n",
    "    'max_iter': [100, 500],\n",
    "    'max_depth': [3, 5, 10, None],\n",
    "    'learning_rate': [0.01, 0.1]\n",
    "}\n",
    "\n",
    "forecaster_ms = ForecasterAutoregMultiSeries(\n",
    "                    regressor          = HistGradientBoostingRegressor(random_state=123),\n",
    "                    lags               = 14,\n",
    "                    transformer_series = StandardScaler(),\n",
    "                )\n",
    "\n",
    "results_grid_ms = grid_search_forecaster_multiseries(\n",
    "                      forecaster         = forecaster_ms,\n",
    "                      series             = df.loc[:end_test, :],\n",
    "                      levels             = None, # Si es None se seleccionan todos los niveles\n",
    "                      lags_grid          = lags_grid,\n",
    "                      param_grid         = param_grid,\n",
    "                      steps              = 7,\n",
    "                      metric             = 'mean_absolute_error',\n",
    "                      initial_train_size = len(df_train),\n",
    "                      refit              = False,\n",
    "                      fixed_train_size   = False,\n",
    "                      return_best        = True,\n",
    "                      verbose            = False\n",
    "                  )      \n",
    "\n",
    "multi_series_mae, predictions_ms = backtesting_forecaster_multiseries(\n",
    "                                       forecaster         = forecaster_ms,\n",
    "                                       series             = df,\n",
    "                                       levels             = None, # Si es None se seleccionan todos los niveles\n",
    "                                       steps              = 7,\n",
    "                                       metric             = 'mean_absolute_error',\n",
    "                                       initial_train_size = len(df_train) + len(df_test),\n",
    "                                       refit              = False,\n",
    "                                       fixed_train_size   = False,\n",
    "                                       verbose            = False)"
   ]
  },
  {
   "cell_type": "code",
   "execution_count": 102,
   "metadata": {},
   "outputs": [
    {
     "data": {
      "text/html": [
       "<div>\n",
       "<style scoped>\n",
       "    .dataframe tbody tr th:only-of-type {\n",
       "        vertical-align: middle;\n",
       "    }\n",
       "\n",
       "    .dataframe tbody tr th {\n",
       "        vertical-align: top;\n",
       "    }\n",
       "\n",
       "    .dataframe thead th {\n",
       "        text-align: right;\n",
       "    }\n",
       "</style>\n",
       "<table border=\"1\" class=\"dataframe\">\n",
       "  <thead>\n",
       "    <tr style=\"text-align: right;\">\n",
       "      <th></th>\n",
       "      <th>uni_series_mae</th>\n",
       "      <th>multi_series_mae</th>\n",
       "      <th>improvement</th>\n",
       "      <th>improvement %</th>\n",
       "    </tr>\n",
       "  </thead>\n",
       "  <tbody>\n",
       "    <tr>\n",
       "      <th>category_1</th>\n",
       "      <td>11.04</td>\n",
       "      <td>8.65</td>\n",
       "      <td>2.39</td>\n",
       "      <td>21.66</td>\n",
       "    </tr>\n",
       "    <tr>\n",
       "      <th>category_2</th>\n",
       "      <td>22.78</td>\n",
       "      <td>3.92</td>\n",
       "      <td>18.86</td>\n",
       "      <td>82.78</td>\n",
       "    </tr>\n",
       "    <tr>\n",
       "      <th>category_3</th>\n",
       "      <td>354.93</td>\n",
       "      <td>263.78</td>\n",
       "      <td>91.14</td>\n",
       "      <td>25.68</td>\n",
       "    </tr>\n",
       "  </tbody>\n",
       "</table>\n",
       "</div>"
      ],
      "text/plain": [
       "            uni_series_mae  multi_series_mae  improvement  improvement %\n",
       "category_1           11.04              8.65         2.39          21.66\n",
       "category_2           22.78              3.92        18.86          82.78\n",
       "category_3          354.93            263.78        91.14          25.68"
      ]
     },
     "execution_count": 102,
     "metadata": {},
     "output_type": "execute_result"
    }
   ],
   "source": [
    "# Comparison between multiseries and single series model\n",
    "multi_series_mae = multi_series_mae.set_index('levels')\n",
    "multi_series_mae.columns = ['multi_series_mae']\n",
    "results = pd.concat((uni_series_mae, multi_series_mae), axis = 1)\n",
    "results['improvement'] = results.eval('uni_series_mae - multi_series_mae')\n",
    "results['improvement %'] = 100 * results.eval('(uni_series_mae - multi_series_mae) / uni_series_mae')\n",
    "results = results.round(2)\n",
    "results"
   ]
  },
  {
   "cell_type": "code",
   "execution_count": 103,
   "metadata": {},
   "outputs": [
    {
     "data": {
      "text/html": [
       "<div>\n",
       "<style scoped>\n",
       "    .dataframe tbody tr th:only-of-type {\n",
       "        vertical-align: middle;\n",
       "    }\n",
       "\n",
       "    .dataframe tbody tr th {\n",
       "        vertical-align: top;\n",
       "    }\n",
       "\n",
       "    .dataframe thead th {\n",
       "        text-align: right;\n",
       "    }\n",
       "</style>\n",
       "<table border=\"1\" class=\"dataframe\">\n",
       "  <thead>\n",
       "    <tr style=\"text-align: right;\">\n",
       "      <th></th>\n",
       "      <th>improvement</th>\n",
       "      <th>improvement %</th>\n",
       "    </tr>\n",
       "  </thead>\n",
       "  <tbody>\n",
       "    <tr>\n",
       "      <th>mean</th>\n",
       "      <td>37.463333</td>\n",
       "      <td>43.373333</td>\n",
       "    </tr>\n",
       "    <tr>\n",
       "      <th>min</th>\n",
       "      <td>2.390000</td>\n",
       "      <td>21.660000</td>\n",
       "    </tr>\n",
       "    <tr>\n",
       "      <th>max</th>\n",
       "      <td>91.140000</td>\n",
       "      <td>82.780000</td>\n",
       "    </tr>\n",
       "  </tbody>\n",
       "</table>\n",
       "</div>"
      ],
      "text/plain": [
       "      improvement  improvement %\n",
       "mean    37.463333      43.373333\n",
       "min      2.390000      21.660000\n",
       "max     91.140000      82.780000"
      ]
     },
     "execution_count": 103,
     "metadata": {},
     "output_type": "execute_result"
    }
   ],
   "source": [
    "# Mean results\n",
    "results[['improvement', 'improvement %']].agg(['mean', 'min', 'max'])"
   ]
  },
  {
   "attachments": {},
   "cell_type": "markdown",
   "metadata": {},
   "source": [
    "We observe that the multiseries model after hyperparameter tuning still performs better. This is caused by having time series with similar dynamics. An advantage of using this model is that only one model should be maintained versus three or n models."
   ]
  },
  {
   "cell_type": "code",
   "execution_count": 111,
   "metadata": {},
   "outputs": [
    {
     "data": {
      "image/png": "[encoded data removed]",
      "text/plain": [
       "<Figure size 792x288 with 1 Axes>"
      ]
     },
     "metadata": {
      "needs_background": "light"
     },
     "output_type": "display_data"
    }
   ],
   "source": [
    "# Predictions Category 1\n",
    "fig, ax=plt.subplots(figsize=(11, 4))\n",
    "df_val['category_1'].tail(60).plot(ax=ax)\n",
    "predictions_ms['category_1'].tail(60).plot(ax=ax)\n",
    "ax.legend(['Real', 'Predictions multi series forecaster'])\n",
    "plt.title(\"Predictions of Category 1\");"
   ]
  },
  {
   "cell_type": "code",
   "execution_count": 112,
   "metadata": {},
   "outputs": [
    {
     "data": {
      "image/png": "[encoded data removed]",
      "text/plain": [
       "<Figure size 792x288 with 1 Axes>"
      ]
     },
     "metadata": {
      "needs_background": "light"
     },
     "output_type": "display_data"
    }
   ],
   "source": [
    "# Predictions Category 2\n",
    "fig, ax=plt.subplots(figsize=(11, 4))\n",
    "df_val['category_2'].tail(60).plot(ax=ax)\n",
    "predictions_ms['category_2'].tail(60).plot(ax=ax)\n",
    "ax.legend(['Real', 'Predictions multi series forecaster'])\n",
    "plt.title(\"Predictions of Category 2\");"
   ]
  },
  {
   "cell_type": "code",
   "execution_count": 113,
   "metadata": {},
   "outputs": [
    {
     "data": {
      "image/png": "[encoded data removed]",
      "text/plain": [
       "<Figure size 792x288 with 1 Axes>"
      ]
     },
     "metadata": {
      "needs_background": "light"
     },
     "output_type": "display_data"
    }
   ],
   "source": [
    "# Predictions Category 2\n",
    "fig, ax=plt.subplots(figsize=(11, 4))\n",
    "df_val['category_3'].tail(60).plot(ax=ax)\n",
    "predictions_ms['category_3'].tail(60).plot(ax=ax)\n",
    "ax.legend(['Real', 'Predictions multi series forecaster'])\n",
    "plt.title(\"Predictions of Category 3\");"
   ]
  }
 ],
 "metadata": {
  "kernelspec": {
   "display_name": "Python 3",
   "language": "python",
   "name": "python3"
  },
  "language_info": {
   "codemirror_mode": {
    "name": "ipython",
    "version": 3
   },
   "file_extension": ".py",
   "mimetype": "text/x-python",
   "name": "python",
   "nbconvert_exporter": "python",
   "pygments_lexer": "ipython3",
   "version": "3.10.0"
  },
  "orig_nbformat": 4
 },
 "nbformat": 4,
 "nbformat_minor": 2
}
